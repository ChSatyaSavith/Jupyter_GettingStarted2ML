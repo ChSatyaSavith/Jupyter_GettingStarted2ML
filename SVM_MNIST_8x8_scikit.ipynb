{
 "cells": [
  {
   "cell_type": "markdown",
   "id": "a8cef4a4-34d7-4e90-9ffb-417c67a8ca17",
   "metadata": {},
   "source": [
    "# Introduction\n",
    "\n",
    "This notebook was inspired by: [Recognizing hand-written digits](https://scikit-learn.org/stable/auto_examples/classification/plot_digits_classification.html).\n",
    "\n",
    "It shows how the machine learning package [scikit-learn](https://scikit-learn.org) can be used to recognize images of hand-written digits, from 0-9. This example uses the a dataset consisting of **8x8 pixel** images of digits."
   ]
  },
  {
   "cell_type": "markdown",
   "id": "698bddfb-3935-47c5-9ab3-3beada022eb1",
   "metadata": {},
   "source": [
    "# Global imports"
   ]
  },
  {
   "cell_type": "code",
   "execution_count": 1,
   "id": "f788b703-818c-4d7a-af87-b081fd76420c",
   "metadata": {},
   "outputs": [],
   "source": [
    "# import matplotlib for plotting\n",
    "import matplotlib.pyplot as plt\n",
    "%matplotlib inline\n",
    "\n",
    "# import datasets, SVM classifiers and performance metrics\n",
    "# install sklearn by 'conda install scikit-learn' first\n",
    "from sklearn import datasets, svm, metrics\n",
    "from sklearn.model_selection import train_test_split"
   ]
  },
  {
   "cell_type": "markdown",
   "id": "bbc72fa0-cc10-4bee-a590-460f93871c59",
   "metadata": {},
   "source": [
    "# Exploring the digits dataset\n",
    "\n",
    "The digits dataset used here consists of **8x8 pixel images** of digits. The *images* attribute of the dataset stores 8x8 arrays of grayscale values for each image. The *target* attribute of the dataset stores the digit each image represents and this is included in the title of the 4 plots below.\n",
    "\n",
    "Hint:  \n",
    "When working with image files (e.g. PNG files), the function `matplotlib.pyplot.imread()` should be used for loading."
   ]
  },
  {
   "cell_type": "code",
   "execution_count": 2,
   "id": "5d89bbdd-8123-439f-96c0-f1be92892636",
   "metadata": {},
   "outputs": [],
   "source": [
    "# load the dataset of 8x8 pixel images of digits\n",
    "digits = datasets.load_digits()"
   ]
  },
  {
   "cell_type": "code",
   "execution_count": 21,
   "id": "737a574d-bb84-4153-8804-396f4fedb768",
   "metadata": {},
   "outputs": [
    {
     "data": {
      "image/png": "[encoded data removed]",
      "text/plain": [
       "<Figure size 1800x576 with 10 Axes>"
      ]
     },
     "metadata": {
      "needs_background": "light"
     },
     "output_type": "display_data"
    }
   ],
   "source": [
    "_, axes = plt.subplots(nrows=1, ncols=10, figsize=(25, 8))\n",
    "\n",
    "for ax, image, label in zip(axes, digits.images, digits.target):\n",
    "    ax.set_axis_off()\n",
    "    ax.imshow(image, cmap=plt.cm.gray_r, interpolation=\"nearest\")\n",
    "    ax.set_title(\"Label: %i\" % label)"
   ]
  },
  {
   "cell_type": "markdown",
   "id": "dd7f7d58-aaca-4f9e-af43-ebaa6eaf942b",
   "metadata": {},
   "source": [
    "# Classification by support vector classifier (SVC)"
   ]
  },
  {
   "cell_type": "markdown",
   "id": "6fa3e2d8-3a06-4b13-8224-1dca1d3d36e6",
   "metadata": {},
   "source": [
    "# Evaluation"
   ]
  },
  {
   "cell_type": "code",
   "execution_count": null,
   "id": "30fea62b-c0ad-4c0a-a7d7-6d322fa43cc7",
   "metadata": {},
   "outputs": [],
   "source": []
  }
 ],
 "metadata": {
  "kernelspec": {
   "display_name": "Python 3 (ipykernel)",
   "language": "python",
   "name": "python3"
  },
  "language_info": {
   "codemirror_mode": {
    "name": "ipython",
    "version": 3
   },
   "file_extension": ".py",
   "mimetype": "text/x-python",
   "name": "python",
   "nbconvert_exporter": "python",
   "pygments_lexer": "ipython3",
   "version": "3.9.13"
  }
 },
 "nbformat": 4,
 "nbformat_minor": 5
}
