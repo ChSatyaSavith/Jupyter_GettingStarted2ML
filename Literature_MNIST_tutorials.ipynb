{
 "cells": [
  {
   "cell_type": "markdown",
   "id": "17982db1-6515-4d2d-a782-502e35ca32e6",
   "metadata": {},
   "source": [
    "# Literature collection of MNIST tutorials\n",
    "\n",
    "This notebook is intended to collect some links to interesting documentation or tutorials on machine learning using the well-known and well-researched [MNIST dataset](http://yann.lecun.com/exdb/mnist/) for handwritten digit recognition as an example. These literature references serve as a starting point for own application notebooks later on.\n",
    "\n",
    "## Retrieve MNIST dataset\n",
    "\n",
    "- [MNIST in CSV](https://www.kaggle.com/datasets/oddrationale/mnist-in-csv): MNIST dataset provided in a easy-to-use CSV format\n",
    "\n",
    "## Support vector machines (SVM)\n",
    "\n",
    "- [Support Vector Machine: Digit Classification with Python; Including my Hand Written Digits](https://towardsdatascience.com/support-vector-machine-mnist-digit-classification-with-python-including-my-hand-written-digits-83d6eca7004a)\n",
    "- [SVM with MNIST](https://dmkothari.github.io/Machine-Learning-Projects/SVM_with_MNIST.html): colored confusion matrix\n",
    "\n",
    "## Convolutional neural networks (CNN)\n",
    "\n",
    "- [How to Develop a CNN for MNIST Handwritten Digit Classification](https://machinelearningmastery.com/how-to-develop-a-convolutional-neural-network-from-scratch-for-mnist-handwritten-digit-classification/)\n",
    "- [20. Training and Testing with MNIST20. Training and Testing with MNIST](https://python-course.eu/machine-learning/training-and-testing-with-mnist.php)\n",
    "- [Deep Learning | Neural Network From Scratch with NumPy and MNIST](https://mlfromscratch.com/neural-network-tutorial/#/)\n",
    "- [MNIST Handwriting Classification using Custom CNN](https://www.kaggle.com/code/javaclll/mnist-handwriting-classification-using-custom-cnn): uses MNIST dataset in CSV format from *kaggle*\n",
    "\n",
    "## Model evaluations\n",
    "\n",
    "- [Tutorial: Learning a digit classifier with the MNIST dataset tutorial: Learning a digit classifier with the MNIST dataset](https://scientific-python.readthedocs.io/en/latest/notebooks_rst/6_Machine_Learning/04_Exercices/00_Tutorials/0_ML_Tutorial_MNIST.html): Warning of broken links! Therefore here the corrected references:\n",
    "    - [1- Support Vector Machine](https://scientific-python.readthedocs.io/en/latest/notebooks_rst/6_Machine_Learning/04_Exercices/00_Tutorials/1_ML_Tutorial_SVM.html)\n",
    "    - [6- Neural Networks](https://scientific-python.readthedocs.io/en/latest/notebooks_rst/6_Machine_Learning/04_Exercices/00_Tutorials/2_ML_Tutorial_NN.html)\n",
    "    - [7- Convolutional Neural Networks](https://scientific-python.readthedocs.io/en/latest/notebooks_rst/6_Machine_Learning/04_Exercices/00_Tutorials/3_ML_Tutorial_CNN.html)\n",
    "    - [8 - Use your digit classifier!](https://scientific-python.readthedocs.io/en/latest/notebooks_rst/6_Machine_Learning/04_Exercices/00_Tutorials/3_ML_Tutorial_CNN.html#use-your-digit-classifier): CNN based digit recognition on **webcam**\n",
    "\n",
    "- [Siwei Digit Recognizer Top20](https://www.kaggle.com/code/endlesslethe/siwei-digit-recognizer-top20): compares and evaluates recognition accuracy on different models like: \n",
    "    - naive bayes\n",
    "    - knn\n",
    "    - svm\n",
    "    - decison tree\n",
    "    - random forest\n",
    "    - cnn \"LaNet5\"\"Simple CNN\" and \"Complex CNN\n"
   ]
  },
  {
   "cell_type": "code",
   "execution_count": null,
   "id": "d45e39da-0ae1-46e9-bcd0-cd757a41bb59",
   "metadata": {},
   "outputs": [],
   "source": []
  }
 ],
 "metadata": {
  "kernelspec": {
   "display_name": "Python 3 (ipykernel)",
   "language": "python",
   "name": "python3"
  },
  "language_info": {
   "codemirror_mode": {
    "name": "ipython",
    "version": 3
   },
   "file_extension": ".py",
   "mimetype": "text/x-python",
   "name": "python",
   "nbconvert_exporter": "python",
   "pygments_lexer": "ipython3",
   "version": "3.9.13"
  },
  "toc-autonumbering": true
 },
 "nbformat": 4,
 "nbformat_minor": 5
}
