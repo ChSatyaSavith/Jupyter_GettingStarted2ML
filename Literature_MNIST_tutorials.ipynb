{
 "cells": [
  {
   "cell_type": "markdown",
   "id": "17982db1-6515-4d2d-a782-502e35ca32e6",
   "metadata": {},
   "source": [
    "# Literature collection of MNIST tutorials\n",
    "\n",
    "- [How to Develop a CNN for MNIST Handwritten Digit Classification](https://machinelearningmastery.com/how-to-develop-a-convolutional-neural-network-from-scratch-for-mnist-handwritten-digit-classification/)\n",
    "- [20. Training and Testing with MNIST20. Training and Testing with MNIST](https://python-course.eu/machine-learning/training-and-testing-with-mnist.php)\n",
    "- [Tutorial: Learning a digit classifier with the MNIST datasetTutorial: Learning a digit classifier with the MNIST dataset](https://scientific-python.readthedocs.io/en/latest/notebooks_rst/6_Machine_Learning/04_Exercices/00_Tutorials/0_ML_Tutorial_MNIST.html)\n",
    "- [Deep Learning | Neural Network From Scratch with NumPy and MNIST](https://mlfromscratch.com/neural-network-tutorial/#/)"
   ]
  },
  {
   "cell_type": "code",
   "execution_count": null,
   "id": "d45e39da-0ae1-46e9-bcd0-cd757a41bb59",
   "metadata": {},
   "outputs": [],
   "source": []
  }
 ],
 "metadata": {
  "kernelspec": {
   "display_name": "Python 3 (ipykernel)",
   "language": "python",
   "name": "python3"
  },
  "language_info": {
   "codemirror_mode": {
    "name": "ipython",
    "version": 3
   },
   "file_extension": ".py",
   "mimetype": "text/x-python",
   "name": "python",
   "nbconvert_exporter": "python",
   "pygments_lexer": "ipython3",
   "version": "3.9.13"
  }
 },
 "nbformat": 4,
 "nbformat_minor": 5
}
