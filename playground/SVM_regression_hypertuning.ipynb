{
 "cells": [
  {
   "cell_type": "markdown",
   "id": "458230d3-f643-4df8-ac52-381ff77ebdff",
   "metadata": {},
   "source": [
    "# Example of SVM regression hypertuning \n",
    "\n",
    "In the example, two approaches to systematic hyper-parameter search are presented: **Grid Search** and **Randomized Search**. While the former exhaustively considers all parameter combinations for given values, the latter selects a number of candidates from a parameter space with a particular random distribution.\n",
    "\n",
    "Sources:\n",
    "\n",
    "- [3.2. Tuning the hyper-parameters of an estimator](https://scikit-learn.org/stable/modules/grid_search.html)\n",
    "    - [sklearn.model_selection.GridSearchCV](https://scikit-learn.org/stable/modules/generated/sklearn.model_selection.GridSearchCV.html)\n",
    "    - [sklearn.model_selection.RandomizedSearchCV](https://scikit-learn.org/stable/modules/generated/sklearn.model_selection.RandomizedSearchCV.html#sklearn.model_selection.RandomizedSearchCV)\n",
    "- [Introduction to hyperparameter tuning with scikit-learn and Python](https://pyimagesearch.com/2021/05/17/introduction-to-hyperparameter-tuning-with-scikit-learn-and-python/)\n",
    "    - [Abalone Dataset](https://www.kaggle.com/datasets/rodolfomendes/abalone-dataset?resource=download)\n",
    "- [Hyperparameter tuning using Grid Search and Random Search: A Conceptual Guide](https://medium.com/@jackstalfort/hyperparameter-tuning-using-grid-search-and-random-search-f8750a464b35)"
   ]
  },
  {
   "cell_type": "markdown",
   "id": "9e3beb3c-5407-4416-a203-f9fb1bf2df0e",
   "metadata": {},
   "source": [
    "Import the necessary packages:"
   ]
  },
  {
   "cell_type": "code",
   "execution_count": 1,
   "id": "2e9be9fe-f40e-4de3-a6aa-05c42f706752",
   "metadata": {},
   "outputs": [],
   "source": [
    "# general packages\n",
    "from sklearn.preprocessing import StandardScaler\n",
    "from sklearn.model_selection import train_test_split\n",
    "from sklearn.svm import SVR\n",
    "import pandas as pd\n",
    "\n",
    "# additional packages for grid search\n",
    "from sklearn.model_selection import RepeatedKFold\n",
    "from sklearn.model_selection import GridSearchCV\n",
    "\n",
    "# additional packages for randomized search\n",
    "from sklearn.model_selection import RandomizedSearchCV\n",
    "from sklearn.model_selection import RepeatedKFold\n",
    "from scipy.stats import loguniform\n",
    "\n",
    "# import class MeasExecTimeOfProgram from python file MeasExecTimeOfProgramclass.py\n",
    "from MeasExecTimeOfProgram_class import MeasExecTimeOfProgram"
   ]
  },
  {
   "cell_type": "markdown",
   "id": "8a55e63b-6e3a-4384-88df-7a30dd3df9da",
   "metadata": {},
   "source": [
    "Set path and columns of the abalone dataset for import:"
   ]
  },
  {
   "cell_type": "code",
   "execution_count": 2,
   "id": "72f06f5c-dd6b-4fde-84e7-a487eabf7eca",
   "metadata": {},
   "outputs": [],
   "source": [
    "# specify the path of the dataset\n",
    "CSV_PATH = \"./datasets/abalone_dataset.csv\"\n",
    "\n",
    "# specify the column names of our dataframe\n",
    "COLS = [\"Sex\", \"Length\", \"Diameter\", \"Height\", \"Whole weight\",\n",
    "        \"Shucked weight\", \"Viscera weight\", \"Shell weight\", \"Age\"]"
   ]
  },
  {
   "cell_type": "markdown",
   "id": "238348b3-f5b9-4b89-b55c-0178a7cc427b",
   "metadata": {},
   "source": [
    "Load dataset and split it into subsets for training and testing in the ratio 85% to 15%:"
   ]
  },
  {
   "cell_type": "code",
   "execution_count": 3,
   "id": "dd98c5f5-54ae-4bf6-abc9-b7b46cba9af1",
   "metadata": {},
   "outputs": [],
   "source": [
    "# load the dataset, separate the features and labels, and perform a\n",
    "# training and testing split using 85% of the data for training and\n",
    "# 15% for evaluation\n",
    "dataset = pd.read_csv(CSV_PATH, names=COLS, header=0)\n",
    "\n",
    "# omit also 1. column due to non-float categorical\n",
    "dataX = dataset[dataset.columns[1:-1]]\n",
    "# take only last comlumn for ages\n",
    "dataY = dataset[dataset.columns[-1]]\n",
    "# split into train and test data subsets (ratio: 85% to 15%)\n",
    "(trainX, testX, trainY, testY) = train_test_split(dataX, dataY, random_state=3, test_size=0.15, shuffle=True)"
   ]
  },
  {
   "cell_type": "markdown",
   "id": "2cb36df3-f582-425b-b2fe-e5b6b60ddd93",
   "metadata": {},
   "source": [
    "Standardize the feature values by computing the **mean**, subtracting the mean from the data points, and then dividing by the **standard deviation**:"
   ]
  },
  {
   "cell_type": "code",
   "execution_count": 4,
   "id": "95c87f9c-70d5-4bfa-aba0-60714fafee49",
   "metadata": {},
   "outputs": [],
   "source": [
    "scaler = StandardScaler()\n",
    "trainX = scaler.fit_transform(trainX)\n",
    "testX = scaler.transform(testX)\n",
    "\n",
    "#testX"
   ]
  },
  {
   "cell_type": "markdown",
   "id": "1e030ff9-a628-4651-b715-a9f5d01b3ef8",
   "metadata": {},
   "source": [
    "## Finding a baseline\n",
    "\n",
    "The aim of this sub-step is to establish a baseline on the [Abalone Dataset](https://www.kaggle.com/datasets/rodolfomendes/abalone-dataset?resource=download) by training a **Support Vector Regression (SVR)** with no hyperparameter tuning.\n",
    "\n",
    "Train the model with **no tuning of hyperparameters** to find the baseline for later improvements:"
   ]
  },
  {
   "cell_type": "code",
   "execution_count": 5,
   "id": "86ac1572-ae35-42f4-b437-206db6ac88dd",
   "metadata": {},
   "outputs": [
    {
     "name": "stdout",
     "output_type": "stream",
     "text": [
      "Execution time: 0.67 s\n"
     ]
    }
   ],
   "source": [
    "model = SVR()\n",
    "\n",
    "# initiate measuring execution time\n",
    "execTime = MeasExecTimeOfProgram()\n",
    "execTime.start()\n",
    "\n",
    "model.fit(trainX, trainY)\n",
    "\n",
    "# print time delta\n",
    "print('Execution time: {:.2f} s'.format(execTime.stop()/1000))"
   ]
  },
  {
   "cell_type": "markdown",
   "id": "2758f48d-9596-48f8-9864-46a9834fc612",
   "metadata": {},
   "source": [
    "Evaluate our model using R^2-score (1.0 is the best value):"
   ]
  },
  {
   "cell_type": "code",
   "execution_count": 6,
   "id": "b1b0f46a-9000-41a5-975d-a30fcd6637b5",
   "metadata": {},
   "outputs": [
    {
     "name": "stdout",
     "output_type": "stream",
     "text": [
      "R2: 0.51\n"
     ]
    }
   ],
   "source": [
    "print(\"R2: {:.2f}\".format(model.score(testX, testY)))"
   ]
  },
  {
   "cell_type": "code",
   "execution_count": 7,
   "id": "49af2380-0e24-4e58-9f4b-2df28c56de52",
   "metadata": {},
   "outputs": [
    {
     "name": "stdout",
     "output_type": "stream",
     "text": [
      "Mean squared error: 4.63 %\n"
     ]
    }
   ],
   "source": [
    "from sklearn.metrics import mean_squared_error\n",
    "\n",
    "y_pred = model.predict(testX)\n",
    "\n",
    "mean_squared_error = mean_squared_error(testY, y_pred)\n",
    "\n",
    "print(\"Mean squared error: {:.2f} %\".format(mean_squared_error))"
   ]
  },
  {
   "cell_type": "markdown",
   "id": "765a1861-23b3-49d9-872f-ba8f94152db9",
   "metadata": {},
   "source": [
    "## Grid Search"
   ]
  },
  {
   "cell_type": "markdown",
   "id": "d7376737-15ab-4f63-ae0f-64c528b6c282",
   "metadata": {},
   "source": [
    "Initialize the SVR model and define the **space of the hyperparameters** to perform the **grid-search** over:"
   ]
  },
  {
   "cell_type": "code",
   "execution_count": 44,
   "id": "08c80037-28aa-4d36-ab26-230ddf8c9bf3",
   "metadata": {},
   "outputs": [],
   "source": [
    "model = SVR()\n",
    "kernel = [\"linear\", \"rbf\", \"sigmoid\", \"poly\"]\n",
    "tolerance = [1e-3, 1e-4, 1e-5, 1e-6]\n",
    "C = [1, 1.5, 2, 2.5, 3]\n",
    "grid = dict(kernel=kernel, tol=tolerance, C=C)"
   ]
  },
  {
   "cell_type": "markdown",
   "id": "b1e4e1fc-d41a-4235-b933-598e61202d37",
   "metadata": {},
   "source": [
    "Initialize a **cross-validation fold** and **perform a grid-search** to tune the hyperparameters:"
   ]
  },
  {
   "cell_type": "code",
   "execution_count": 45,
   "id": "e6dd70fd-4c00-4837-8bca-e6ecce527e55",
   "metadata": {},
   "outputs": [
    {
     "name": "stdout",
     "output_type": "stream",
     "text": [
      "Execution time: 415.62 s\n"
     ]
    }
   ],
   "source": [
    "cvFold = RepeatedKFold(n_splits=10, n_repeats=3, random_state=1)\n",
    "gridSearch = GridSearchCV(estimator=model, param_grid=grid, n_jobs=-1,\n",
    "                          cv=cvFold, scoring=\"neg_mean_squared_error\")\n",
    "\n",
    "# initiate measuring execution time\n",
    "execTime = MeasExecTimeOfProgram()\n",
    "execTime.start()\n",
    "\n",
    "searchResults = gridSearch.fit(trainX, trainY)\n",
    "\n",
    "# print time delta\n",
    "print('Execution time: {:.2f} s'.format(execTime.stop()/1000))"
   ]
  },
  {
   "cell_type": "markdown",
   "id": "779568b3-c060-4951-8eea-9859808e7e57",
   "metadata": {},
   "source": [
    "Extract the best model and evaluate it:"
   ]
  },
  {
   "cell_type": "code",
   "execution_count": 46,
   "id": "77052551-1644-41ae-ad45-9367281f7eea",
   "metadata": {},
   "outputs": [
    {
     "name": "stdout",
     "output_type": "stream",
     "text": [
      "R2: 0.52\n"
     ]
    }
   ],
   "source": [
    "bestModel = searchResults.best_estimator_\n",
    "\n",
    "print(\"R2: {:.2f}\".format(bestModel.score(testX, testY)))"
   ]
  },
  {
   "cell_type": "code",
   "execution_count": 47,
   "id": "ded62bda-0dd7-4a51-98e0-530ac6857839",
   "metadata": {
    "tags": []
   },
   "outputs": [
    {
     "name": "stdout",
     "output_type": "stream",
     "text": [
      "Mean squared error: 4.49 %\n"
     ]
    }
   ],
   "source": [
    "from sklearn.metrics import mean_squared_error\n",
    "\n",
    "y_pred = bestModel.predict(testX)\n",
    "\n",
    "mean_squared_error = mean_squared_error(testY, y_pred)\n",
    "\n",
    "print(\"Mean squared error: {:.2f} %\".format(mean_squared_error))"
   ]
  },
  {
   "cell_type": "code",
   "execution_count": 48,
   "id": "ab52e80c-2224-49b9-a187-876146854f43",
   "metadata": {},
   "outputs": [
    {
     "data": {
      "text/plain": [
       "{'C': 3,\n",
       " 'cache_size': 200,\n",
       " 'coef0': 0.0,\n",
       " 'degree': 3,\n",
       " 'epsilon': 0.1,\n",
       " 'gamma': 'scale',\n",
       " 'kernel': 'rbf',\n",
       " 'max_iter': -1,\n",
       " 'shrinking': True,\n",
       " 'tol': 1e-05,\n",
       " 'verbose': False}"
      ]
     },
     "execution_count": 48,
     "metadata": {},
     "output_type": "execute_result"
    }
   ],
   "source": [
    "bestModel.get_params()"
   ]
  },
  {
   "cell_type": "markdown",
   "id": "2fad08b5-5113-47c5-a752-7dcd29c81361",
   "metadata": {},
   "source": [
    "## Randomized Search"
   ]
  },
  {
   "cell_type": "markdown",
   "id": "3d4789c7-80e1-45d1-8fa1-5d1e22bd1d3c",
   "metadata": {},
   "source": [
    "Initialize the SVR model and define the **space of the hyperparameters** to perform the **randomized-search** over:"
   ]
  },
  {
   "cell_type": "code",
   "execution_count": 51,
   "id": "dfb41cec-a19d-48cc-9cb8-c32f99b7cf9d",
   "metadata": {},
   "outputs": [],
   "source": [
    "model = SVR()\n",
    "kernel = [\"linear\", \"rbf\", \"sigmoid\", \"poly\"]\n",
    "tolerance = loguniform(1e-6, 1e-3)\n",
    "C = [1, 1.5, 2, 2.5, 3]\n",
    "grid = dict(kernel=kernel, tol=tolerance, C=C)"
   ]
  },
  {
   "cell_type": "markdown",
   "id": "48d4e9df-9d16-448b-a449-7ee6eb3acd27",
   "metadata": {},
   "source": [
    "Initialize a **cross-validation fold** and **perform a randomized-search** to tune the hyperparameters:"
   ]
  },
  {
   "cell_type": "code",
   "execution_count": 52,
   "id": "d58f81aa-1977-4714-a06c-79f3c5e5a9d2",
   "metadata": {},
   "outputs": [
    {
     "name": "stdout",
     "output_type": "stream",
     "text": [
      "Execution time: 60.81 s\n"
     ]
    }
   ],
   "source": [
    "cvFold = RepeatedKFold(n_splits=10, n_repeats=3, random_state=1)\n",
    "\n",
    "randomSearch = RandomizedSearchCV(estimator=model, n_jobs=-1,\n",
    "                                  cv=cvFold, param_distributions=grid,\n",
    "                                  scoring=\"neg_mean_squared_error\")\n",
    "\n",
    "# initiate measuring execution time\n",
    "execTime = MeasExecTimeOfProgram()\n",
    "execTime.start()\n",
    "\n",
    "searchResults = randomSearch.fit(trainX, trainY)\n",
    "\n",
    "# print time delta\n",
    "print('Execution time: {:.2f} s'.format(execTime.stop()/1000))"
   ]
  },
  {
   "cell_type": "markdown",
   "id": "f5f3e1f9-3efe-4f4c-a57a-7b3c4a428a83",
   "metadata": {},
   "source": [
    "Extract the best model and evaluate it:"
   ]
  },
  {
   "cell_type": "code",
   "execution_count": 53,
   "id": "0e9d7db7-5b05-4a9e-a84a-eb6701af55b4",
   "metadata": {},
   "outputs": [
    {
     "name": "stdout",
     "output_type": "stream",
     "text": [
      "R2: 0.52\n"
     ]
    }
   ],
   "source": [
    "bestModel = searchResults.best_estimator_\n",
    "\n",
    "print(\"R2: {:.2f}\".format(bestModel.score(testX, testY)))"
   ]
  },
  {
   "cell_type": "code",
   "execution_count": 54,
   "id": "f37084dc-92c5-483a-9b4f-f3c90b773c09",
   "metadata": {
    "tags": []
   },
   "outputs": [
    {
     "name": "stdout",
     "output_type": "stream",
     "text": [
      "Mean squared error: 4.53 %\n"
     ]
    }
   ],
   "source": [
    "from sklearn.metrics import mean_squared_error\n",
    "\n",
    "y_pred = bestModel.predict(testX)\n",
    "\n",
    "mean_squared_error = mean_squared_error(testY, y_pred)\n",
    "\n",
    "print(\"Mean squared error: {:.2f} %\".format(mean_squared_error))"
   ]
  },
  {
   "cell_type": "code",
   "execution_count": 55,
   "id": "fd2b10c9-977d-4db7-b818-c6b7ef230a52",
   "metadata": {},
   "outputs": [
    {
     "data": {
      "text/plain": [
       "{'C': 2,\n",
       " 'cache_size': 200,\n",
       " 'coef0': 0.0,\n",
       " 'degree': 3,\n",
       " 'epsilon': 0.1,\n",
       " 'gamma': 'scale',\n",
       " 'kernel': 'rbf',\n",
       " 'max_iter': -1,\n",
       " 'shrinking': True,\n",
       " 'tol': 0.0006847359084131038,\n",
       " 'verbose': False}"
      ]
     },
     "execution_count": 55,
     "metadata": {},
     "output_type": "execute_result"
    }
   ],
   "source": [
    "bestModel.get_params()"
   ]
  }
 ],
 "metadata": {
  "kernelspec": {
   "display_name": "Python 3 (ipykernel)",
   "language": "python",
   "name": "python3"
  },
  "language_info": {
   "codemirror_mode": {
    "name": "ipython",
    "version": 3
   },
   "file_extension": ".py",
   "mimetype": "text/x-python",
   "name": "python",
   "nbconvert_exporter": "python",
   "pygments_lexer": "ipython3",
   "version": "3.9.12"
  }
 },
 "nbformat": 4,
 "nbformat_minor": 5
}
