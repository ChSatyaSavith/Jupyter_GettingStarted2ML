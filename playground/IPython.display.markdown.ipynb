{
 "cells": [
  {
   "cell_type": "code",
   "execution_count": 1,
   "metadata": {
    "id": "G0xrM339BM5l"
   },
   "outputs": [],
   "source": [
    "import pandas as pd"
   ]
  },
  {
   "cell_type": "code",
   "execution_count": 17,
   "metadata": {
    "id": "BPeWqz0ZB_vH"
   },
   "outputs": [],
   "source": [
    "from IPython.display import display, Markdown, Latex, HTML"
   ]
  },
  {
   "cell_type": "code",
   "execution_count": 3,
   "metadata": {
    "tags": []
   },
   "outputs": [
    {
     "name": "stdout",
     "output_type": "stream",
     "text": [
      "|    |   A |   B |\n",
      "|:---|----:|----:|\n",
      "| a  |   1 |   1 |\n",
      "| b  |   2 |   2 |\n",
      "| c  |   3 |   3 |\n"
     ]
    }
   ],
   "source": [
    "df = pd.DataFrame({\"A\": [1, 2, 3], \"B\": [1, 2, 3]}, index=['a', 'b', 'c'])\n",
    "print(df.to_markdown(index=True))"
   ]
  },
  {
   "cell_type": "code",
   "execution_count": 4,
   "metadata": {
    "tags": []
   },
   "outputs": [
    {
     "name": "stderr",
     "output_type": "stream",
     "text": [
      "/tmp/ipykernel_104488/265042420.py:1: FutureWarning: In future versions `DataFrame.to_latex` is expected to utilise the base implementation of `Styler.to_latex` for formatting and rendering. The arguments signature may therefore change. It is recommended instead to use `DataFrame.style.to_latex` which also contains additional functionality.\n",
      "  display(Latex(df.to_latex(index=True)))\n"
     ]
    },
    {
     "data": {
      "text/latex": [
       "\\begin{tabular}{lrr}\n",
       "\\toprule\n",
       "{} &  A &  B \\\\\n",
       "\\midrule\n",
       "a &  1 &  1 \\\\\n",
       "b &  2 &  2 \\\\\n",
       "c &  3 &  3 \\\\\n",
       "\\bottomrule\n",
       "\\end{tabular}\n"
      ],
      "text/plain": [
       "<IPython.core.display.Latex object>"
      ]
     },
     "metadata": {},
     "output_type": "display_data"
    }
   ],
   "source": [
    "display(Latex(df.to_latex(index=True)))"
   ]
  },
  {
   "cell_type": "code",
   "execution_count": 5,
   "metadata": {
    "tags": []
   },
   "outputs": [
    {
     "data": {
      "text/html": [
       "<div>\n",
       "<style scoped>\n",
       "    .dataframe tbody tr th:only-of-type {\n",
       "        vertical-align: middle;\n",
       "    }\n",
       "\n",
       "    .dataframe tbody tr th {\n",
       "        vertical-align: top;\n",
       "    }\n",
       "\n",
       "    .dataframe thead th {\n",
       "        text-align: right;\n",
       "    }\n",
       "</style>\n",
       "<table border=\"1\" class=\"dataframe\">\n",
       "  <thead>\n",
       "    <tr style=\"text-align: right;\">\n",
       "      <th></th>\n",
       "      <th>A</th>\n",
       "      <th>B</th>\n",
       "    </tr>\n",
       "  </thead>\n",
       "  <tbody>\n",
       "    <tr>\n",
       "      <th>a</th>\n",
       "      <td>1</td>\n",
       "      <td>1</td>\n",
       "    </tr>\n",
       "    <tr>\n",
       "      <th>b</th>\n",
       "      <td>2</td>\n",
       "      <td>2</td>\n",
       "    </tr>\n",
       "    <tr>\n",
       "      <th>c</th>\n",
       "      <td>3</td>\n",
       "      <td>3</td>\n",
       "    </tr>\n",
       "  </tbody>\n",
       "</table>\n",
       "</div>"
      ],
      "text/plain": [
       "   A  B\n",
       "a  1  1\n",
       "b  2  2\n",
       "c  3  3"
      ]
     },
     "metadata": {},
     "output_type": "display_data"
    }
   ],
   "source": [
    "display(df)"
   ]
  },
  {
   "cell_type": "code",
   "execution_count": 6,
   "metadata": {
    "tags": []
   },
   "outputs": [
    {
     "data": {
      "text/markdown": [
       "|    |   A |   B |\n",
       "|:---|----:|----:|\n",
       "| a  |   1 |   1 |\n",
       "| b  |   2 |   2 |\n",
       "| c  |   3 |   3 |"
      ],
      "text/plain": [
       "<IPython.core.display.Markdown object>"
      ]
     },
     "metadata": {},
     "output_type": "display_data"
    }
   ],
   "source": [
    "display(Markdown(df.to_markdown()))"
   ]
  },
  {
   "cell_type": "code",
   "execution_count": 11,
   "metadata": {
    "id": "yBOTzL-gEgD5"
   },
   "outputs": [],
   "source": [
    "df_styled = df.style.set_caption('Test table rendered in LaTeX')"
   ]
  },
  {
   "cell_type": "code",
   "execution_count": 12,
   "metadata": {
    "tags": []
   },
   "outputs": [
    {
     "data": {
      "text/latex": [
       "\\begin{table}\n",
       "\\caption{Test table rendered in LaTeX}\n",
       "\\begin{tabular}{lrr}\n",
       " & A & B \\\\\n",
       "a & 1 & 1 \\\\\n",
       "b & 2 & 2 \\\\\n",
       "c & 3 & 3 \\\\\n",
       "\\end{tabular}\n",
       "\\end{table}\n"
      ],
      "text/plain": [
       "<IPython.core.display.Latex object>"
      ]
     },
     "metadata": {},
     "output_type": "display_data"
    }
   ],
   "source": [
    "display(Latex(df_styled.to_latex()))"
   ]
  },
  {
   "cell_type": "code",
   "execution_count": 21,
   "metadata": {},
   "outputs": [
    {
     "data": {
      "text/plain": [
       "'|    |   A |   B |\\n|:---|----:|----:|\\n| a  |   1 |   1 |\\n| b  |   2 |   2 |\\n| c  |   3 |   3 |'"
      ]
     },
     "execution_count": 21,
     "metadata": {},
     "output_type": "execute_result"
    }
   ],
   "source": [
    "#display(Markdown(df_styled))\n",
    "df.to_markdown(index=True)\n",
    "#display(HTML(df_styled.to_html()))"
   ]
  },
  {
   "cell_type": "markdown",
   "metadata": {
    "id": "_2CMWexxb_6I"
   },
   "source": [
    "Table: Das ist die Tabellenüberschrift  \n",
    "\n",
    "|    |   A |   B |\n",
    "|:---|----:|----:|\n",
    "| a  |   1 |   1 |\n",
    "| a  |   2 |   2 |\n",
    "| b  |   3 |   3 |"
   ]
  },
  {
   "cell_type": "code",
   "execution_count": 9,
   "metadata": {
    "tags": []
   },
   "outputs": [
    {
     "data": {
      "text/latex": [
       "\\begin{table}\n",
       "\\caption{Test table rendered in markdown}\n",
       "\\begin{tabular}{lrr}\n",
       "{} & {A} & {B} \\\\\n",
       "a & 1 & 1 \\\\\n",
       "a & 2 & 2 \\\\\n",
       "b & 3 & 3 \\\\\n",
       "\\end{tabular}\n",
       "\\end{table}\n"
      ],
      "text/plain": [
       "<IPython.core.display.Latex object>"
      ]
     },
     "metadata": {},
     "output_type": "display_data"
    }
   ],
   "source": [
    "display(Latex(\"\\\\begin{table}\\n\\\\caption{Test table rendered in markdown}\\n\\\\begin{tabular}{lrr}\\n{} & {A} & {B} \\\\\\\\\\na & 1 & 1 \\\\\\\\\\na & 2 & 2 \\\\\\\\\\nb & 3 & 3 \\\\\\\\\\n\\\\end{tabular}\\n\\\\end{table}\\n\"))"
   ]
  },
  {
   "cell_type": "code",
   "execution_count": 30,
   "metadata": {},
   "outputs": [
    {
     "data": {
      "text/markdown": [
       "|    |   A |   B |\n",
       "|:---|----:|----:|\n",
       "| a  |   1 |   1 |\n",
       "| b  |   2 |   2 |\n",
       "| c  |   3 |   3 |"
      ],
      "text/plain": [
       "<IPython.core.display.Markdown object>"
      ]
     },
     "metadata": {},
     "output_type": "display_data"
    }
   ],
   "source": [
    "display(Markdown('|    |   A |   B |\\n' \\\n",
    "                 '|:---|----:|----:|\\n' \\\n",
    "                 '| a  |   1 |   1 |\\n' \\\n",
    "                 '| b  |   2 |   2 |\\n' \\\n",
    "                 '| c  |   3 |   3 |'))"
   ]
  },
  {
   "cell_type": "markdown",
   "metadata": {
    "id": "0bu4axNPeFOq"
   },
   "source": [
    "Table: File table for all participants\n",
    "\n",
    "| file_idx|keys |filenames                                             |descriptions               |\n",
    "|--------:|:----|:-----------------------------------------------------|:--------------------------|\n",
    "|        1|crit |rdata_all_crit_AHP_edible_Cities_2022-03-18_09-53.csv |criteria (main criteria)   |\n",
    "|        2|env  |rdata_all_env_AHP_edible_Cities_2022-03-18_09-53.csv  |environmental sub-criteria |\n",
    "|        3|soc  |rdata_all_soc_AHP_edible_Cities_2022-03-18_09-53.csv  |social sub-criteria        |\n",
    "|        4|eco  |rdata_all_eco_AHP_edible_Cities_2022-03-18_09-53.csv  |economic sub-criteria      |"
   ]
  },
  {
   "cell_type": "code",
   "execution_count": 34,
   "metadata": {},
   "outputs": [
    {
     "name": "stdout",
     "output_type": "stream",
     "text": [
      "Table: Test table rendered in Markdown\n",
      "\n",
      "|    |   A |   B |\n",
      "|:---|----:|----:|\n",
      "| a  |   1 |   1 |\n",
      "| b  |   2 |   2 |\n",
      "| c  |   3 |   3 |\n"
     ]
    }
   ],
   "source": [
    "str_table_caption = 'Test table rendered in Markdown'\n",
    "str_table_content = df.to_markdown(index=True)\n",
    "\n",
    "str_table_complete = 'Table: ' + str_table_caption + '\\n\\n' + str_table_content\n",
    "\n",
    "print(str_table_complete)"
   ]
  },
  {
   "cell_type": "code",
   "execution_count": 35,
   "metadata": {},
   "outputs": [
    {
     "data": {
      "text/markdown": [
       "Table: Test table rendered in Markdown\n",
       "\n",
       "|    |   A |   B |\n",
       "|:---|----:|----:|\n",
       "| a  |   1 |   1 |\n",
       "| b  |   2 |   2 |\n",
       "| c  |   3 |   3 |"
      ],
      "text/plain": [
       "<IPython.core.display.Markdown object>"
      ]
     },
     "metadata": {},
     "output_type": "display_data"
    }
   ],
   "source": [
    "display(Markdown(str_table_complete))"
   ]
  },
  {
   "cell_type": "code",
   "execution_count": 41,
   "metadata": {},
   "outputs": [],
   "source": [
    "# Function to render dataframes to markdown table with caption\n",
    "def func_render_dataframe2Markdown(df, str_caption):\n",
    "    str_table_complete = 'Table: ' + str_caption + '\\n\\n' \\\n",
    "                         + df.to_markdown(index=True)\n",
    "    display(Markdown(str_table_complete))"
   ]
  },
  {
   "cell_type": "code",
   "execution_count": 42,
   "metadata": {},
   "outputs": [
    {
     "data": {
      "text/markdown": [
       "Table: Test table rendered in Markdown\n",
       "\n",
       "|    |   A |   B |\n",
       "|:---|----:|----:|\n",
       "| a  |   1 |   1 |\n",
       "| b  |   2 |   2 |\n",
       "| c  |   3 |   3 |"
      ],
      "text/plain": [
       "<IPython.core.display.Markdown object>"
      ]
     },
     "metadata": {},
     "output_type": "display_data"
    }
   ],
   "source": [
    "str_table_caption = 'Test table rendered in Markdown'\n",
    "\n",
    "func_render_dataframe2Markdown(df, str_table_caption)"
   ]
  },
  {
   "cell_type": "code",
   "execution_count": null,
   "metadata": {},
   "outputs": [],
   "source": []
  }
 ],
 "metadata": {
  "abstract": "Test",
  "colab": {
   "authorship_tag": "ABX9TyNWywZXGWr05sptaOIQvrfL",
   "provenance": []
  },
  "ipub": {
   "bibliography": "bibliographies/example.bib",
   "language": "british",
   "listcode": true,
   "listfigures": true,
   "listtables": false,
   "titlepage": {
    "author": "Dipl.-Ing. Bj\\\"orn Kasper",
    "email": "kasper.bjoern@bgetem.de",
    "logo": "images/Cover_image.pdf",
    "title": "Getting started with Machine Learning (ML) and Support Vector Classifiers (SVC) - A systematic step-by-step approach"
   },
   "toc": true
  },
  "jupytext": {
   "formats": "ipynb,md"
  },
  "kernelspec": {
   "display_name": "Python 3 (ipykernel)",
   "language": "python",
   "name": "python3"
  },
  "language_info": {
   "codemirror_mode": {
    "name": "ipython",
    "version": 3
   },
   "file_extension": ".py",
   "mimetype": "text/x-python",
   "name": "python",
   "nbconvert_exporter": "python",
   "pygments_lexer": "ipython3",
   "version": "3.11.0"
  },
  "latex_metadata": {
   "CC_logo": "../images/CC_BY-SA_40.png",
   "affiliation": "Test and Certification Body for Electrical Engineering at BG ETEM",
   "author": "Dipl.-Ing. Bj\\\"orn Kasper",
   "bib": "../literature/notebook.bib",
   "cover_image": "../images/Cover_image.pdf",
   "email": "kasper.bjoern@bgetem.de",
   "release_version": "version 0.1",
   "title": "Test"
  },
  "toc-autonumbering": true,
  "toc-showcode": false,
  "toc-showmarkdowntxt": false,
  "toc-showtags": true
 },
 "nbformat": 4,
 "nbformat_minor": 4
}
