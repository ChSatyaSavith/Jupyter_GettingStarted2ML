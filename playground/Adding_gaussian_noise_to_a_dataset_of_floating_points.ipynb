{
 "cells": [
  {
   "cell_type": "markdown",
   "metadata": {
    "id": "WqRx3NiPX5eZ"
   },
   "source": [
    "This Notbook was inspired by [Adding gaussian noise to a dataset of floating points and save it (python)](https://stackoverflow.com/a/46093600)"
   ]
  },
  {
   "cell_type": "code",
   "execution_count": 1,
   "metadata": {
    "id": "zZYtp34dXxz_"
   },
   "outputs": [],
   "source": [
    "import pandas as pd\n",
    "import numpy as np"
   ]
  },
  {
   "cell_type": "code",
   "execution_count": 2,
   "metadata": {
    "colab": {
     "base_uri": "https://localhost:8080/"
    },
    "id": "ENJQJLqLYJWF",
    "outputId": "ac43e7fa-b00c-43b9-9a0b-b3aa3c6ea690"
   },
   "outputs": [
    {
     "name": "stdout",
     "output_type": "stream",
     "text": [
      "     A    B\n",
      "0  1.0  2.0\n",
      "1  3.0  4.0\n"
     ]
    }
   ],
   "source": [
    "# create a sample dataset with dimension (2,2)\n",
    "# in your case you need to replace this with\n",
    "# clean_signal = pd.read_csv(\"your_data.csv\")\n",
    "clean_signal = pd.DataFrame([[1,2],[3,4]], columns=list('AB'), dtype=float)\n",
    "print(clean_signal)"
   ]
  },
  {
   "cell_type": "code",
   "execution_count": 3,
   "metadata": {
    "colab": {
     "base_uri": "https://localhost:8080/"
    },
    "id": "7hoqmhCVqNTc",
    "outputId": "83cd0506-2a0a-4b2d-c405-01df4f062d5c"
   },
   "outputs": [
    {
     "data": {
      "text/plain": [
       "(2, 2)"
      ]
     },
     "execution_count": 3,
     "metadata": {},
     "output_type": "execute_result"
    }
   ],
   "source": [
    "clean_signal.shape"
   ]
  },
  {
   "cell_type": "code",
   "execution_count": 10,
   "metadata": {
    "colab": {
     "base_uri": "https://localhost:8080/"
    },
    "id": "cA-fDwZcYX_v",
    "outputId": "80bcfc83-174c-4989-8355-901d712fad29"
   },
   "outputs": [
    {
     "name": "stdout",
     "output_type": "stream",
     "text": [
      "[[ 0.04967142 -0.01382643]\n",
      " [ 0.06476885  0.15230299]]\n"
     ]
    }
   ],
   "source": [
    "mean, sigma = 0, 0.1\n",
    "# creating a noise with the same dimension as the dataset (2,2)\n",
    "# set 'seed' to something, to make the output of the random generator reproducible\n",
    "np.random.seed(42)\n",
    "noise = np.random.normal(mean, sigma, clean_signal.shape)\n",
    "print(noise)"
   ]
  },
  {
   "cell_type": "code",
   "execution_count": 11,
   "metadata": {
    "colab": {
     "base_uri": "https://localhost:8080/"
    },
    "id": "3eLq-9khYex6",
    "outputId": "4a03e9ab-4ce5-4784-f3d5-3a5359a83710"
   },
   "outputs": [
    {
     "name": "stdout",
     "output_type": "stream",
     "text": [
      "          A         B\n",
      "0  1.049671  1.986174\n",
      "1  3.064769  4.152303\n"
     ]
    }
   ],
   "source": [
    "signal = clean_signal + noise\n",
    "print(signal)"
   ]
  },
  {
   "cell_type": "code",
   "execution_count": null,
   "metadata": {
    "id": "Gsx4AsloYiiz"
   },
   "outputs": [],
   "source": []
  }
 ],
 "metadata": {
  "colab": {
   "provenance": []
  },
  "kernelspec": {
   "display_name": "Python 3 (ipykernel)",
   "language": "python",
   "name": "python3"
  },
  "language_info": {
   "codemirror_mode": {
    "name": "ipython",
    "version": 3
   },
   "file_extension": ".py",
   "mimetype": "text/x-python",
   "name": "python",
   "nbconvert_exporter": "python",
   "pygments_lexer": "ipython3",
   "version": "3.7.3"
  }
 },
 "nbformat": 4,
 "nbformat_minor": 4
}
