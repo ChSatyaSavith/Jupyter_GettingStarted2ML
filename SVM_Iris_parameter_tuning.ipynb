{
 "cells": [
  {
   "cell_type": "markdown",
   "id": "b738b8f9-c08b-435b-a840-837c5cb9358c",
   "metadata": {},
   "source": [
    "# Parameter tuning for SVC\n",
    "\n",
    "This notebook was inspired by:  \n",
    "- [In Depth: Parameter tuning for SVC](https://medium.com/all-things-ai/in-depth-parameter-tuning-for-svc-758215394769)\n",
    "- [SVM Hyperparameter Tuning using GridSearchCV](https://www.vebuso.com/2020/03/svm-hyperparameter-tuning-using-gridsearchcv/):\n",
    "\n",
    "The goal of this notebook is to show the basic influence of the kernel choice of a support vector classifier (SVC). Furthermore, the SVC parameters are described and their effect on the classification result is shown.  \n",
    "For the sake of better illustration, the explanations are given using the famous [Iris flower data sets](https://en.wikipedia.org/wiki/Iris_flower_data_set) as an example."
   ]
  },
  {
   "cell_type": "markdown",
   "id": "8a351a33-04b6-4ac8-ad04-dc76a95d80fe",
   "metadata": {},
   "source": [
    "## Load globally used libraries and set plot parameters"
   ]
  },
  {
   "cell_type": "code",
   "execution_count": 1,
   "id": "3d024e5f-d32f-4737-b2c1-dd6a038b027b",
   "metadata": {},
   "outputs": [],
   "source": [
    "import time\n",
    "\n",
    "from IPython.display import HTML"
   ]
  },
  {
   "cell_type": "markdown",
   "id": "ef114d00-0cc3-4224-9c00-7caac9efcfd9",
   "metadata": {},
   "source": [
    "## About the dataset\n",
    "\n",
    "The Iris flower data set is a multivariate data set introduced by Sir Ronald Fisher in the 1936 as an example of discriminant analysis.  \n",
    "The data set consists of 50 samples from each of three species of Iris ([*Iris setosa*](https://en.wikipedia.org/wiki/Iris_setosa), [*Iris virginica*] and *Iris versicolor*), so there are 150 total samples. Four features were measured from each sample: the length and the width of the [sepals](https://en.wikipedia.org/wiki/Sepal) and [petals](https://en.wikipedia.org/wiki/Petal), in centimetres.  \n",
    "Here is a principle illustration of a flower with sepal and petal:"
   ]
  },
  {
   "cell_type": "code",
   "execution_count": 21,
   "id": "acd8657a-32a4-4919-8cb3-d2af7eb0343d",
   "metadata": {
    "jupyter": {
     "source_hidden": true
    },
    "tags": []
   },
   "outputs": [
    {
     "data": {
      "text/html": [
       "<figure><img src='./images/Mature_flower_diagram.svg' width='800px'>                  <figcaption>Principle illustration of a flower with sepal and petal (source: <a href='https://en.wikipedia.org/wiki/File:Mature_flower_diagram.svg'>Mature_flower_diagram.svg</a>)</figcaption>               </figure>"
      ],
      "text/plain": [
       "<IPython.core.display.HTML object>"
      ]
     },
     "metadata": {},
     "output_type": "display_data"
    }
   ],
   "source": [
    "display(HTML(\"<figure><img src='./images/Mature_flower_diagram.svg' width='800px'> \\\n",
    "                 <figcaption>Principle illustration of a flower with sepal and petal (source: <a href='https://en.wikipedia.org/wiki/File:Mature_flower_diagram.svg'>Mature_flower_diagram.svg</a>)</figcaption> \\\n",
    "              </figure>\"))"
   ]
  },
  {
   "cell_type": "markdown",
   "id": "8ba26c84-9ccc-499b-8542-f46064dd2ddc",
   "metadata": {
    "tags": []
   },
   "source": [
    "Here are pictures of the three different Iris species (*Iris setosa*, *Iris virginica* and *Iris versicolor*). Given the dimensions of the flower, it will be possible to predict the class of the flower."
   ]
  },
  {
   "cell_type": "code",
   "execution_count": 22,
   "id": "85033eef-8477-47f3-b9be-c92d018c5cbf",
   "metadata": {
    "jupyter": {
     "source_hidden": true
    },
    "tags": []
   },
   "outputs": [
    {
     "data": {
      "text/html": [
       "<table>                 <tr>                 <td><figure><img src='./images/Iris_setosa_640px.jpg' width='320px'>                         <figcaption><i>Iris setosa</i> (source: <a href='https://commons.wikimedia.org/wiki/File:Irissetosa1.jpg'>Irissetosa1.jpg</a>)</figcaption>                     </figure></td>                 <td><figure><img src='./images/Iris_versicolor_640px.jpg' width='320px'>                         <figcaption><i>Iris versicolor</i> (source: <a href='https://en.wikipedia.org/wiki/File:Iris_versicolor_3.jpg'>Iris versicolor 3.jpg</a>)</figcaption>                     </figure></td>                 <td><figure><img src='./images/Iris_virginica_590px.jpg' width='295px'>                         <figcaption><i>Iris virginica</i> (source: <a href='https://en.wikipedia.org/wiki/File:Iris_virginica.jpg'>Iris virginica.jpg</a>)</figcaption>                     </figure></td>                 </tr>               </table>"
      ],
      "text/plain": [
       "<IPython.core.display.HTML object>"
      ]
     },
     "metadata": {},
     "output_type": "display_data"
    }
   ],
   "source": [
    "display(HTML(\"<table> \\\n",
    "                <tr> \\\n",
    "                <td><figure><img src='./images/Iris_setosa_640px.jpg' width='320px'> \\\n",
    "                        <figcaption><i>Iris setosa</i> (source: <a href='https://commons.wikimedia.org/wiki/File:Irissetosa1.jpg'>Irissetosa1.jpg</a>)</figcaption> \\\n",
    "                    </figure></td> \\\n",
    "                <td><figure><img src='./images/Iris_versicolor_640px.jpg' width='320px'> \\\n",
    "                        <figcaption><i>Iris versicolor</i> (source: <a href='https://en.wikipedia.org/wiki/File:Iris_versicolor_3.jpg'>Iris versicolor 3.jpg</a>)</figcaption> \\\n",
    "                    </figure></td> \\\n",
    "                <td><figure><img src='./images/Iris_virginica_590px.jpg' width='295px'> \\\n",
    "                        <figcaption><i>Iris virginica</i> (source: <a href='https://en.wikipedia.org/wiki/File:Iris_virginica.jpg'>Iris virginica.jpg</a>)</figcaption> \\\n",
    "                    </figure></td> \\\n",
    "                </tr> \\\n",
    "              </table>\"))"
   ]
  },
  {
   "cell_type": "markdown",
   "id": "a5e8ebaa-90b6-4fd2-a7d9-29788bccb20b",
   "metadata": {},
   "source": [
    "The iris data set is widely used as a beginner's dataset for machine learning purposes.  \n",
    "Among others, the dataset is included in Python in the machine learning package [Scikit-learn](https://scikit-learn.org), so that users can access it without having to find a special source for it."
   ]
  },
  {
   "cell_type": "code",
   "execution_count": null,
   "id": "8c776e3e-21bc-4992-be64-8b7c9ff02cee",
   "metadata": {},
   "outputs": [],
   "source": []
  }
 ],
 "metadata": {
  "kernelspec": {
   "display_name": "Python 3 (ipykernel)",
   "language": "python",
   "name": "python3"
  },
  "language_info": {
   "codemirror_mode": {
    "name": "ipython",
    "version": 3
   },
   "file_extension": ".py",
   "mimetype": "text/x-python",
   "name": "python",
   "nbconvert_exporter": "python",
   "pygments_lexer": "ipython3",
   "version": "3.7.3"
  }
 },
 "nbformat": 4,
 "nbformat_minor": 5
}
